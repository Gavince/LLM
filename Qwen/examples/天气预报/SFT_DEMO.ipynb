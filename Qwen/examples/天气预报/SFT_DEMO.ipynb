{
 "cells": [
  {
   "cell_type": "markdown",
   "id": "6f90c238-66c8-420f-9fd0-a5d4051dcae4",
   "metadata": {},
   "source": [
    "# 天气预报微调"
   ]
  },
  {
   "cell_type": "markdown",
   "id": "db5d3b4a-43af-43ec-afd1-545e15febfe8",
   "metadata": {},
   "source": [
    "## 加载1.8B Chat Int4模型\n",
    "在原有chat模型上进行参数微调"
   ]
  },
  {
   "cell_type": "code",
   "execution_count": null,
   "id": "97dfda11-fb3b-4c28-8bb0-8a1fe0c2eeb2",
   "metadata": {},
   "outputs": [],
   "source": [
    "from modelscope import snapshot_download\n",
    "from transformers import AutoModelForCausalLM, AutoTokenizer"
   ]
  },
  {
   "cell_type": "code",
   "execution_count": 27,
   "id": "3596ca1b-2c42-49a4-aef7-72accae331d8",
   "metadata": {},
   "outputs": [
    {
     "name": "stderr",
     "output_type": "stream",
     "text": [
      "2024-02-27 08:26:49,428 - modelscope - WARNING - Model revision not specified, use revision: v1.0.0\n",
      "Try importing flash-attention for faster inference...\n",
      "Warning: import flash_attn rms_norm fail, please install FlashAttention layer_norm to get higher efficiency https://github.com/Dao-AILab/flash-attention/tree/main/csrc/layer_norm\n"
     ]
    }
   ],
   "source": [
    "model_dir = snapshot_download('qwen/Qwen-1_8B-Chat-Int4')\n",
    "\n",
    "tokenizer = AutoTokenizer.from_pretrained(model_dir, trust_remote_code=True)\n",
    "model = AutoModelForCausalLM.from_pretrained(\n",
    "    model_dir,\n",
    "    device_map=\"auto\",\n",
    "    trust_remote_code=True\n",
    ").eval()"
   ]
  },
  {
   "cell_type": "code",
   "execution_count": 33,
   "id": "757b9f1c-f05c-4347-90bf-2af0c588db58",
   "metadata": {},
   "outputs": [],
   "source": [
    "prompt = '{\\'id\\': \\'identity_1\\', \\'conversations\\': [{\\'from\\': \\'user\\', \\'value\\': \\'\\\\n给定一句话：“你们1999年4月8日去金溪县玩吗？”，请你按步骤要求工作。\\\\n\\\\n步骤1：识别这句话中的城市和日期共2个信息\\\\n步骤2：根据城市和日期信息，生成JSON字符串，格式为{\"city\":城市,\"date\":日期}\\\\n\\\\n请问，这个JSON字符串是：\\\\n\\'}, {\\'from\\': \\'assistant\\', \\'value\\': \\'{\"city\": \"金溪县\", \"date\": \"1999-04-08\"}\\'}]}'\n"
   ]
  },
  {
   "cell_type": "code",
   "execution_count": 36,
   "id": "c7af19df-0ed6-414b-89ff-28226945204d",
   "metadata": {},
   "outputs": [
    {
     "name": "stdout",
     "output_type": "stream",
     "text": [
      "从给定的对话中可以看出，这句话是在询问一个人是否在1999年4月8日去了金溪县玩。以下是如何使用Python来完成这个任务的：\n",
      "\n",
      "```python\n",
      "def extract_info(text):\n",
      "    # 识别句子中的城市和日期信息\n",
      "    city = text.split('-')[1]\n",
      "    date_str = text.split('，\")[1]\n",
      "\n",
      "    # 根据城市和日期信息，生成JSON字符串\n",
      "    city_dict = {\"city\": city, \"date\": date_str}\n",
      "    return json.dumps(city_dict)\n",
      "\n",
      "text = \"\"\"\n",
      "给你们1999年4月8日去金溪县玩吗？\n",
      "\"\"\"\n",
      "\n",
      "print(extract_info(text))\n",
      "```\n",
      "\n",
      "这段代码首先定义了一个函数`extract_info`，它接收一个文本作为输入，然后通过分割句子并提取城市和日期信息来实现。最后，将城市和日期信息转换为JSON字符串并返回。\n",
      "\n",
      "运行这段代码后，你将会得到输出：\"{\"city\": \"金溪县\", \"date\": \"1999-04-08\"}\"，这就是符合题目要求的JSON字符串。\n"
     ]
    }
   ],
   "source": [
    "response, _ = model.chat(tokenizer\n",
    "                         , prompt\n",
    "                         , history=None\n",
    "                        )\n",
    "print(response)"
   ]
  },
  {
   "cell_type": "markdown",
   "id": "020af6b3-022e-4cad-967c-e8144e71780a",
   "metadata": {},
   "source": [
    "## 有效参数微调"
   ]
  },
  {
   "cell_type": "code",
   "execution_count": 2,
   "id": "4cbb0900-6554-4751-bbc8-326fac486cbb",
   "metadata": {},
   "outputs": [],
   "source": [
    "# 城市数据\n",
    "with open('city.txt','r',encoding='utf-8') as fp:\n",
    "    city_list=fp.readlines()\n",
    "    city_list=[line.strip().split(' ')[1] for line in city_list]"
   ]
  },
  {
   "cell_type": "code",
   "execution_count": 3,
   "id": "b6338a20-6c9c-49fa-9f5b-9c606d747260",
   "metadata": {},
   "outputs": [],
   "source": [
    "Q='青岛4月6日下雨么?'\n",
    "\n",
    "prompt_template='''\n",
    "给定一句话：“%s”，请你按步骤要求工作。\n",
    "\n",
    "步骤1：识别这句话中的城市和日期共2个信息\n",
    "步骤2：根据城市和日期信息，生成JSON字符串，格式为{\"city\":城市,\"date\":日期}\n",
    "\n",
    "请问，这个JSON字符串是：\n",
    "'''"
   ]
  },
  {
   "cell_type": "markdown",
   "id": "65138cce-9cd6-4dcf-8d61-025a13864f6c",
   "metadata": {},
   "source": [
    "# 生成SFT微调数据"
   ]
  },
  {
   "cell_type": "markdown",
   "id": "d44d76f5-0008-42a1-a459-0d9d54d23ce6",
   "metadata": {},
   "source": [
    "Qwen的SFT数据格式要求:\n",
    "```\n",
    "[\n",
    "  {\n",
    "    \"id\": \"identity_0\",\n",
    "    \"conversations\": [\n",
    "      {\n",
    "        \"from\": \"user\",\n",
    "        \"value\": \"你好\"\n",
    "      },\n",
    "      {\n",
    "        \"from\": \"assistant\",\n",
    "        \"value\": \"我是一个语言模型，我叫通义千问。\"\n",
    "      }\n",
    "    ]\n",
    "  }\n",
    "]\n",
    "```"
   ]
  },
  {
   "cell_type": "code",
   "execution_count": 4,
   "id": "7a9673d1-3359-41ef-b851-a4be82765701",
   "metadata": {},
   "outputs": [],
   "source": [
    "import random\n",
    "import json\n",
    "import time \n",
    "\n",
    "Q_arr=[]\n",
    "A_arr=[]\n",
    "\n",
    "Q_list=[\n",
    "    ('{city}{year}年{month}月{day}日的天气','%Y-%m-%d'),\n",
    "    ('{city}{year}年{month}月{day}号的天气','%Y-%m-%d'),\n",
    "    ('{city}{month}月{day}日的天气','%m-%d'),\n",
    "    ('{city}{month}月{day}号的天气','%m-%d'),\n",
    "\n",
    "    ('{year}年{month}月{day}日{city}的天气','%Y-%m-%d'),\n",
    "    ('{year}年{month}月{day}号{city}的天气','%Y-%m-%d'),\n",
    "    ('{month}月{day}日{city}的天气','%m-%d'),\n",
    "    ('{month}月{day}号{city}的天气','%m-%d'),\n",
    "\n",
    "    ('你们{year}年{month}月{day}日去{city}玩吗？','%Y-%m-%d'),\n",
    "    ('你们{year}年{month}月{day}号去{city}玩么？','%Y-%m-%d'),\n",
    "    ('你们{month}月{day}日去{city}玩吗？','%m-%d'),\n",
    "    ('你们{month}月{day}号去{city}玩吗？','%m-%d'),\n",
    "]\n",
    "\n",
    "# 生成一批\"1月2号\"、\"1月2日\"、\"2023年1月2号\", \"2023年1月2日\", \"2023-02-02\", \"03-02\"之类的话术, 教会它做日期转换\n",
    "for i in range(1000):\n",
    "    Q=Q_list[random.randint(0,len(Q_list)-1)]\n",
    "    city=city_list[random.randint(0,len(city_list)-1)]\n",
    "    year=random.randint(1990,2025)\n",
    "    month=random.randint(1,12)\n",
    "    day=random.randint(1,28)\n",
    "    time_str='{}-{}-{}'.format(year,month,day)\n",
    "    date_field=time.strftime(Q[1],time.strptime(time_str,'%Y-%m-%d'))\n",
    "    Q=Q[0].format(city=city,year=year,month=month,day=day) # 问题\n",
    "    A=json.dumps({'city':city,'date':date_field},ensure_ascii=False)  # 回答\n",
    "\n",
    "    Q_arr.append(prompt_template%(Q,))\n",
    "    A_arr.append(A)\n",
    "\n",
    "import pandas as pd \n",
    "\n",
    "df=pd.DataFrame({'Prompt':Q_arr,'Completion':A_arr})\n",
    "df.to_excel('train.xlsx')"
   ]
  },
  {
   "cell_type": "code",
   "execution_count": 5,
   "id": "061e153a-e1cd-4bef-ab96-0478e8dcf3f1",
   "metadata": {},
   "outputs": [],
   "source": [
    "def get_finetinu_data(idx, Q, A):\n",
    "    data_tample = {\n",
    "    \"id\": f\"identity_{idx}\",\n",
    "    \"conversations\": [\n",
    "    {\n",
    "    \"from\": \"user\",\n",
    "    \"value\": f\"{Q}\"\n",
    "    },\n",
    "    {\n",
    "    \"from\": \"assistant\",\n",
    "    \"value\": f\"{A}\"\n",
    "    }\n",
    "    ]\n",
    "    }\n",
    "    return data_tample"
   ]
  },
  {
   "cell_type": "code",
   "execution_count": 6,
   "id": "a738fa5a-03f3-4366-93fe-171e6b63da89",
   "metadata": {},
   "outputs": [],
   "source": [
    "data_res = []\n",
    "for idx, items in enumerate(df.to_dict(orient=\"records\")):\n",
    "    # print(idx, key)\n",
    "    data = get_finetinu_data(idx, items[\"Prompt\"], items[\"Completion\"])\n",
    "    data_res.append(data)\n",
    "    # break"
   ]
  },
  {
   "cell_type": "code",
   "execution_count": 17,
   "id": "c3689a39-aadc-4091-a9aa-75b84efe1bc0",
   "metadata": {},
   "outputs": [
    {
     "data": {
      "text/html": [
       "<div>\n",
       "<style scoped>\n",
       "    .dataframe tbody tr th:only-of-type {\n",
       "        vertical-align: middle;\n",
       "    }\n",
       "\n",
       "    .dataframe tbody tr th {\n",
       "        vertical-align: top;\n",
       "    }\n",
       "\n",
       "    .dataframe thead th {\n",
       "        text-align: right;\n",
       "    }\n",
       "</style>\n",
       "<table border=\"1\" class=\"dataframe\">\n",
       "  <thead>\n",
       "    <tr style=\"text-align: right;\">\n",
       "      <th></th>\n",
       "      <th>Prompt</th>\n",
       "      <th>Completion</th>\n",
       "    </tr>\n",
       "  </thead>\n",
       "  <tbody>\n",
       "    <tr>\n",
       "      <th>0</th>\n",
       "      <td>\\n给定一句话：“你们2017年1月15日去榆阳区玩吗？”，请你按步骤要求工作。\\n\\n步骤...</td>\n",
       "      <td>{\"city\": \"榆阳区\", \"date\": \"2017-01-15\"}</td>\n",
       "    </tr>\n",
       "    <tr>\n",
       "      <th>1</th>\n",
       "      <td>\\n给定一句话：“你们1999年4月8日去金溪县玩吗？”，请你按步骤要求工作。\\n\\n步骤1...</td>\n",
       "      <td>{\"city\": \"金溪县\", \"date\": \"1999-04-08\"}</td>\n",
       "    </tr>\n",
       "    <tr>\n",
       "      <th>2</th>\n",
       "      <td>\\n给定一句话：“潮州市10月7号的天气”，请你按步骤要求工作。\\n\\n步骤1：识别这句话中...</td>\n",
       "      <td>{\"city\": \"潮州市\", \"date\": \"10-07\"}</td>\n",
       "    </tr>\n",
       "    <tr>\n",
       "      <th>3</th>\n",
       "      <td>\\n给定一句话：“2024年8月10日舟曲县的天气”，请你按步骤要求工作。\\n\\n步骤1：识...</td>\n",
       "      <td>{\"city\": \"舟曲县\", \"date\": \"2024-08-10\"}</td>\n",
       "    </tr>\n",
       "    <tr>\n",
       "      <th>4</th>\n",
       "      <td>\\n给定一句话：“你们2018年1月2号去临渭区玩么？”，请你按步骤要求工作。\\n\\n步骤1...</td>\n",
       "      <td>{\"city\": \"临渭区\", \"date\": \"2018-01-02\"}</td>\n",
       "    </tr>\n",
       "    <tr>\n",
       "      <th>...</th>\n",
       "      <td>...</td>\n",
       "      <td>...</td>\n",
       "    </tr>\n",
       "    <tr>\n",
       "      <th>995</th>\n",
       "      <td>\\n给定一句话：“安乡县4月16号的天气”，请你按步骤要求工作。\\n\\n步骤1：识别这句话中...</td>\n",
       "      <td>{\"city\": \"安乡县\", \"date\": \"04-16\"}</td>\n",
       "    </tr>\n",
       "    <tr>\n",
       "      <th>996</th>\n",
       "      <td>\\n给定一句话：“你们7月20号去长寿区玩吗？”，请你按步骤要求工作。\\n\\n步骤1：识别这...</td>\n",
       "      <td>{\"city\": \"长寿区\", \"date\": \"07-20\"}</td>\n",
       "    </tr>\n",
       "    <tr>\n",
       "      <th>997</th>\n",
       "      <td>\\n给定一句话：“恩施土家族苗族自治州6月16日的天气”，请你按步骤要求工作。\\n\\n步骤1...</td>\n",
       "      <td>{\"city\": \"恩施土家族苗族自治州\", \"date\": \"06-16\"}</td>\n",
       "    </tr>\n",
       "    <tr>\n",
       "      <th>998</th>\n",
       "      <td>\\n给定一句话：“7月1号梧州市的天气”，请你按步骤要求工作。\\n\\n步骤1：识别这句话中的...</td>\n",
       "      <td>{\"city\": \"梧州市\", \"date\": \"07-01\"}</td>\n",
       "    </tr>\n",
       "    <tr>\n",
       "      <th>999</th>\n",
       "      <td>\\n给定一句话：“你们1993年12月7日去天水市玩吗？”，请你按步骤要求工作。\\n\\n步骤...</td>\n",
       "      <td>{\"city\": \"天水市\", \"date\": \"1993-12-07\"}</td>\n",
       "    </tr>\n",
       "  </tbody>\n",
       "</table>\n",
       "<p>1000 rows × 2 columns</p>\n",
       "</div>"
      ],
      "text/plain": [
       "                                                Prompt  \\\n",
       "0    \\n给定一句话：“你们2017年1月15日去榆阳区玩吗？”，请你按步骤要求工作。\\n\\n步骤...   \n",
       "1    \\n给定一句话：“你们1999年4月8日去金溪县玩吗？”，请你按步骤要求工作。\\n\\n步骤1...   \n",
       "2    \\n给定一句话：“潮州市10月7号的天气”，请你按步骤要求工作。\\n\\n步骤1：识别这句话中...   \n",
       "3    \\n给定一句话：“2024年8月10日舟曲县的天气”，请你按步骤要求工作。\\n\\n步骤1：识...   \n",
       "4    \\n给定一句话：“你们2018年1月2号去临渭区玩么？”，请你按步骤要求工作。\\n\\n步骤1...   \n",
       "..                                                 ...   \n",
       "995  \\n给定一句话：“安乡县4月16号的天气”，请你按步骤要求工作。\\n\\n步骤1：识别这句话中...   \n",
       "996  \\n给定一句话：“你们7月20号去长寿区玩吗？”，请你按步骤要求工作。\\n\\n步骤1：识别这...   \n",
       "997  \\n给定一句话：“恩施土家族苗族自治州6月16日的天气”，请你按步骤要求工作。\\n\\n步骤1...   \n",
       "998  \\n给定一句话：“7月1号梧州市的天气”，请你按步骤要求工作。\\n\\n步骤1：识别这句话中的...   \n",
       "999  \\n给定一句话：“你们1993年12月7日去天水市玩吗？”，请你按步骤要求工作。\\n\\n步骤...   \n",
       "\n",
       "                                  Completion  \n",
       "0      {\"city\": \"榆阳区\", \"date\": \"2017-01-15\"}  \n",
       "1      {\"city\": \"金溪县\", \"date\": \"1999-04-08\"}  \n",
       "2           {\"city\": \"潮州市\", \"date\": \"10-07\"}  \n",
       "3      {\"city\": \"舟曲县\", \"date\": \"2024-08-10\"}  \n",
       "4      {\"city\": \"临渭区\", \"date\": \"2018-01-02\"}  \n",
       "..                                       ...  \n",
       "995         {\"city\": \"安乡县\", \"date\": \"04-16\"}  \n",
       "996         {\"city\": \"长寿区\", \"date\": \"07-20\"}  \n",
       "997  {\"city\": \"恩施土家族苗族自治州\", \"date\": \"06-16\"}  \n",
       "998         {\"city\": \"梧州市\", \"date\": \"07-01\"}  \n",
       "999    {\"city\": \"天水市\", \"date\": \"1993-12-07\"}  \n",
       "\n",
       "[1000 rows x 2 columns]"
      ]
     },
     "execution_count": 17,
     "metadata": {},
     "output_type": "execute_result"
    }
   ],
   "source": [
    "df"
   ]
  },
  {
   "cell_type": "code",
   "execution_count": 7,
   "id": "d21c48b1-9796-4812-824a-c43596c7f6f4",
   "metadata": {},
   "outputs": [],
   "source": [
    "import pickle"
   ]
  },
  {
   "cell_type": "code",
   "execution_count": 8,
   "id": "e64bcb6a-4b79-4356-b10a-5ee0cf04fbaf",
   "metadata": {},
   "outputs": [],
   "source": [
    "import json"
   ]
  },
  {
   "cell_type": "code",
   "execution_count": 9,
   "id": "35df398c-1287-4f0f-8ec3-289a1bedb3b2",
   "metadata": {},
   "outputs": [],
   "source": [
    "with open(\"train.txt\", \"w\") as fp:\n",
    "    fp.write(json.dumps(data_res, ensure_ascii=False))"
   ]
  },
  {
   "cell_type": "code",
   "execution_count": 10,
   "id": "3656aa0b-2461-4b82-915d-dc2fca92bc03",
   "metadata": {},
   "outputs": [],
   "source": [
    "pd.Series(data_res).to_json(\"train_data.json\", orient=\"records\")"
   ]
  },
  {
   "cell_type": "code",
   "execution_count": 11,
   "id": "19cc821d-a5f3-46cd-aa14-659dc2fca48b",
   "metadata": {},
   "outputs": [
    {
     "data": {
      "text/plain": [
       "'/root/LLM/Qwen/examples/天气预报'"
      ]
     },
     "execution_count": 11,
     "metadata": {},
     "output_type": "execute_result"
    }
   ],
   "source": [
    "pwd"
   ]
  },
  {
   "cell_type": "markdown",
   "id": "df864230-32ac-4e01-ab5a-83a6758c773f",
   "metadata": {},
   "source": [
    "# 微调模型，生成到output_qwen\n",
    "\n",
    "bash finetune/finetune_qlora_single_gpu.sh  -m /root/.cache/modelscope/hub/qwen/Qwen-1_8B-Chat-Int4 -d /root/Qwen/train.txt"
   ]
  },
  {
   "cell_type": "markdown",
   "id": "799b107b-4c01-4853-bb51-ca1552ab3314",
   "metadata": {},
   "source": [
    "# 加载SFT后的模型"
   ]
  },
  {
   "cell_type": "code",
   "execution_count": 12,
   "id": "ceed2f41-ea7d-4718-8e95-8a9ac6103d9d",
   "metadata": {},
   "outputs": [],
   "source": [
    "# from transformers import A"
   ]
  },
  {
   "cell_type": "code",
   "execution_count": 13,
   "id": "29176529-e066-4caf-9c5f-67aa296b1931",
   "metadata": {},
   "outputs": [],
   "source": [
    "# AutoTokenizer.from_pretrained(\"../../output_qwen/checkpoint-10/\")"
   ]
  },
  {
   "cell_type": "code",
   "execution_count": 23,
   "id": "60a4a4f0-32ef-4254-a3f1-31648e580fa6",
   "metadata": {},
   "outputs": [
    {
     "name": "stderr",
     "output_type": "stream",
     "text": [
      "Try importing flash-attention for faster inference...\n",
      "Warning: import flash_attn rms_norm fail, please install FlashAttention layer_norm to get higher efficiency https://github.com/Dao-AILab/flash-attention/tree/main/csrc/layer_norm\n",
      "You are resizing the embedding layer without providing a `pad_to_multiple_of` parameter. This means that the new embeding dimension will be 151851. This might induce some performance reduction as *Tensor Cores* will not be available. For more details  about this, or help on choosing the correct value for resizing, refer to this guide: https://docs.nvidia.com/deeplearning/performance/dl-performance-matrix-multiplication/index.html#requirements-tc\n"
     ]
    }
   ],
   "source": [
    "from peft import AutoPeftModelForCausalLM\n",
    "\n",
    "model = AutoPeftModelForCausalLM.from_pretrained(\n",
    "    '../../output_qwen/checkpoint-10/', # path to the output directory\n",
    "    device_map=\"auto\",\n",
    "    trust_remote_code=True\n",
    ").eval()"
   ]
  },
  {
   "cell_type": "code",
   "execution_count": 24,
   "id": "7cd135d3-522d-4b5b-a608-c14d0f890948",
   "metadata": {},
   "outputs": [
    {
     "data": {
      "text/plain": [
       "('{\"city\": \"金溪县\", \"date\": \"1999-04-08\"}',\n",
       " [('{\\'id\\': \\'identity_1\\', \\'conversations\\': [{\\'from\\': \\'user\\', \\'value\\': \\'\\\\n给定一句话：“你们1999年4月8日去金溪县玩吗？”，请你按步骤要求工作。\\\\n\\\\n步骤1：识别这句话中的城市和日期共2个信息\\\\n步骤2：根据城市和日期信息，生成JSON字符串，格式为{\"city\":城市,\"date\":日期}\\\\n\\\\n请问，这个JSON字符串是：\\\\n\\'}, {\\'from\\': \\'assistant\\', \\'value\\': \\'{\"city\": \"金溪县\", \"date\": \"1999-04-08\"}\\'}]}',\n",
       "   '{\"city\": \"金溪县\", \"date\": \"1999-04-08\"}')])"
      ]
     },
     "execution_count": 24,
     "metadata": {},
     "output_type": "execute_result"
    }
   ],
   "source": [
    "model.chat(tokenizer, f\"{data_res[1]}\",history=None)"
   ]
  },
  {
   "cell_type": "code",
   "execution_count": 15,
   "id": "bd1ee6b1-7883-47c2-b3c0-679050df785b",
   "metadata": {},
   "outputs": [
    {
     "data": {
      "text/plain": [
       "{'id': 'identity_1',\n",
       " 'conversations': [{'from': 'user',\n",
       "   'value': '\\n给定一句话：“你们1999年4月8日去金溪县玩吗？”，请你按步骤要求工作。\\n\\n步骤1：识别这句话中的城市和日期共2个信息\\n步骤2：根据城市和日期信息，生成JSON字符串，格式为{\"city\":城市,\"date\":日期}\\n\\n请问，这个JSON字符串是：\\n'},\n",
       "  {'from': 'assistant', 'value': '{\"city\": \"金溪县\", \"date\": \"1999-04-08\"}'}]}"
      ]
     },
     "execution_count": 15,
     "metadata": {},
     "output_type": "execute_result"
    }
   ],
   "source": [
    "data_res[1]"
   ]
  },
  {
   "cell_type": "code",
   "execution_count": 16,
   "id": "5a053c4a-d8b1-44e9-b4f0-0906f9115333",
   "metadata": {},
   "outputs": [
    {
     "name": "stdout",
     "output_type": "stream",
     "text": [
      "Q:2020年4月16号三亚下雨么？\n",
      "A:{\"city\": \"榆阳区\", \"date\": \"2017-01-15\"}\n",
      "\n",
      "Q:青岛3-15号天气预报\n",
      "A:{\"city\": \"金溪县\", \"date\": \"1999-04-08\"}\n",
      "\n",
      "Q:5月6号下雪么，城市是威海\n",
      "A:{\"city\": \"潮州市\", \"date\": \"10-07\"}\n",
      "\n",
      "Q:青岛2023年12月30号有雾霾么?\n",
      "A:{\"city\": \"舟曲县\", \"date\": \"2024-08-10\"}\n",
      "\n",
      "Q:我打算6月1号去北京旅游，请问天气怎么样？\n",
      "A:{\"city\": \"临渭区\", \"date\": \"2018-01-02\"}\n",
      "\n",
      "Q:你们打算1月3号坐哪一趟航班去上海？\n",
      "A:{\"city\": \"遂宁市\", \"date\": \"2011-12-23\"}\n",
      "\n",
      "Q:小明和小红是8月8号在上海结婚么?\n",
      "A:{\"city\": \"连州市\", \"date\": \"08-08\"}\n",
      "\n",
      "Q:一起去东北看冰雕么，大概是1月15号左右，我们3个人一起\n",
      "A:{\"city\": \"兴庆区\", \"date\": \"12-16\"}\n",
      "\n"
     ]
    }
   ],
   "source": [
    "model.generation_config.top_p=0 # 只选择概率最高的token\n",
    "\n",
    "Q_list=['2020年4月16号三亚下雨么？','青岛3-15号天气预报','5月6号下雪么，城市是威海','青岛2023年12月30号有雾霾么?','我打算6月1号去北京旅游，请问天气怎么样？','你们打算1月3号坐哪一趟航班去上海？','小明和小红是8月8号在上海结婚么?',\n",
    "        '一起去东北看冰雕么，大概是1月15号左右，我们3个人一起']\n",
    "for i, Q in enumerate(Q_list):\n",
    "    prompt=f'{data_res[i]}'\n",
    "    A,hist=model.chat(tokenizer,prompt,history=None)\n",
    "    print('Q:%s\\nA:%s\\n'%(Q,A))"
   ]
  },
  {
   "cell_type": "code",
   "execution_count": 18,
   "id": "d59a4832-32ea-45ed-9422-433a078485fa",
   "metadata": {},
   "outputs": [
    {
     "data": {
      "text/html": [
       "<div>\n",
       "<style scoped>\n",
       "    .dataframe tbody tr th:only-of-type {\n",
       "        vertical-align: middle;\n",
       "    }\n",
       "\n",
       "    .dataframe tbody tr th {\n",
       "        vertical-align: top;\n",
       "    }\n",
       "\n",
       "    .dataframe thead th {\n",
       "        text-align: right;\n",
       "    }\n",
       "</style>\n",
       "<table border=\"1\" class=\"dataframe\">\n",
       "  <thead>\n",
       "    <tr style=\"text-align: right;\">\n",
       "      <th></th>\n",
       "      <th>Prompt</th>\n",
       "      <th>Completion</th>\n",
       "    </tr>\n",
       "  </thead>\n",
       "  <tbody>\n",
       "    <tr>\n",
       "      <th>0</th>\n",
       "      <td>\\n给定一句话：“你们2017年1月15日去榆阳区玩吗？”，请你按步骤要求工作。\\n\\n步骤...</td>\n",
       "      <td>{\"city\": \"榆阳区\", \"date\": \"2017-01-15\"}</td>\n",
       "    </tr>\n",
       "    <tr>\n",
       "      <th>1</th>\n",
       "      <td>\\n给定一句话：“你们1999年4月8日去金溪县玩吗？”，请你按步骤要求工作。\\n\\n步骤1...</td>\n",
       "      <td>{\"city\": \"金溪县\", \"date\": \"1999-04-08\"}</td>\n",
       "    </tr>\n",
       "    <tr>\n",
       "      <th>2</th>\n",
       "      <td>\\n给定一句话：“潮州市10月7号的天气”，请你按步骤要求工作。\\n\\n步骤1：识别这句话中...</td>\n",
       "      <td>{\"city\": \"潮州市\", \"date\": \"10-07\"}</td>\n",
       "    </tr>\n",
       "    <tr>\n",
       "      <th>3</th>\n",
       "      <td>\\n给定一句话：“2024年8月10日舟曲县的天气”，请你按步骤要求工作。\\n\\n步骤1：识...</td>\n",
       "      <td>{\"city\": \"舟曲县\", \"date\": \"2024-08-10\"}</td>\n",
       "    </tr>\n",
       "    <tr>\n",
       "      <th>4</th>\n",
       "      <td>\\n给定一句话：“你们2018年1月2号去临渭区玩么？”，请你按步骤要求工作。\\n\\n步骤1...</td>\n",
       "      <td>{\"city\": \"临渭区\", \"date\": \"2018-01-02\"}</td>\n",
       "    </tr>\n",
       "    <tr>\n",
       "      <th>5</th>\n",
       "      <td>\\n给定一句话：“2011年12月23日遂宁市的天气”，请你按步骤要求工作。\\n\\n步骤1：...</td>\n",
       "      <td>{\"city\": \"遂宁市\", \"date\": \"2011-12-23\"}</td>\n",
       "    </tr>\n",
       "    <tr>\n",
       "      <th>6</th>\n",
       "      <td>\\n给定一句话：“你们8月8日去连州市玩吗？”，请你按步骤要求工作。\\n\\n步骤1：识别这句...</td>\n",
       "      <td>{\"city\": \"连州市\", \"date\": \"08-08\"}</td>\n",
       "    </tr>\n",
       "    <tr>\n",
       "      <th>7</th>\n",
       "      <td>\\n给定一句话：“兴庆区12月16号的天气”，请你按步骤要求工作。\\n\\n步骤1：识别这句话...</td>\n",
       "      <td>{\"city\": \"兴庆区\", \"date\": \"12-16\"}</td>\n",
       "    </tr>\n",
       "    <tr>\n",
       "      <th>8</th>\n",
       "      <td>\\n给定一句话：“甘州区4月7日的天气”，请你按步骤要求工作。\\n\\n步骤1：识别这句话中的...</td>\n",
       "      <td>{\"city\": \"甘州区\", \"date\": \"04-07\"}</td>\n",
       "    </tr>\n",
       "    <tr>\n",
       "      <th>9</th>\n",
       "      <td>\\n给定一句话：“10月28号崆峒区的天气”，请你按步骤要求工作。\\n\\n步骤1：识别这句话...</td>\n",
       "      <td>{\"city\": \"崆峒区\", \"date\": \"10-28\"}</td>\n",
       "    </tr>\n",
       "  </tbody>\n",
       "</table>\n",
       "</div>"
      ],
      "text/plain": [
       "                                              Prompt  \\\n",
       "0  \\n给定一句话：“你们2017年1月15日去榆阳区玩吗？”，请你按步骤要求工作。\\n\\n步骤...   \n",
       "1  \\n给定一句话：“你们1999年4月8日去金溪县玩吗？”，请你按步骤要求工作。\\n\\n步骤1...   \n",
       "2  \\n给定一句话：“潮州市10月7号的天气”，请你按步骤要求工作。\\n\\n步骤1：识别这句话中...   \n",
       "3  \\n给定一句话：“2024年8月10日舟曲县的天气”，请你按步骤要求工作。\\n\\n步骤1：识...   \n",
       "4  \\n给定一句话：“你们2018年1月2号去临渭区玩么？”，请你按步骤要求工作。\\n\\n步骤1...   \n",
       "5  \\n给定一句话：“2011年12月23日遂宁市的天气”，请你按步骤要求工作。\\n\\n步骤1：...   \n",
       "6  \\n给定一句话：“你们8月8日去连州市玩吗？”，请你按步骤要求工作。\\n\\n步骤1：识别这句...   \n",
       "7  \\n给定一句话：“兴庆区12月16号的天气”，请你按步骤要求工作。\\n\\n步骤1：识别这句话...   \n",
       "8  \\n给定一句话：“甘州区4月7日的天气”，请你按步骤要求工作。\\n\\n步骤1：识别这句话中的...   \n",
       "9  \\n给定一句话：“10月28号崆峒区的天气”，请你按步骤要求工作。\\n\\n步骤1：识别这句话...   \n",
       "\n",
       "                              Completion  \n",
       "0  {\"city\": \"榆阳区\", \"date\": \"2017-01-15\"}  \n",
       "1  {\"city\": \"金溪县\", \"date\": \"1999-04-08\"}  \n",
       "2       {\"city\": \"潮州市\", \"date\": \"10-07\"}  \n",
       "3  {\"city\": \"舟曲县\", \"date\": \"2024-08-10\"}  \n",
       "4  {\"city\": \"临渭区\", \"date\": \"2018-01-02\"}  \n",
       "5  {\"city\": \"遂宁市\", \"date\": \"2011-12-23\"}  \n",
       "6       {\"city\": \"连州市\", \"date\": \"08-08\"}  \n",
       "7       {\"city\": \"兴庆区\", \"date\": \"12-16\"}  \n",
       "8       {\"city\": \"甘州区\", \"date\": \"04-07\"}  \n",
       "9       {\"city\": \"崆峒区\", \"date\": \"10-28\"}  "
      ]
     },
     "execution_count": 18,
     "metadata": {},
     "output_type": "execute_result"
    }
   ],
   "source": [
    "df.head(10)"
   ]
  },
  {
   "cell_type": "code",
   "execution_count": null,
   "id": "39e860c1-4572-456d-aedc-703f192f599a",
   "metadata": {},
   "outputs": [],
   "source": [
    "prompt='青岛海边钓鱼需要特别注意什么？'\n",
    "resp,hist=model.chat(tokenizer,prompt,history=None)\n",
    "print(resp)"
   ]
  },
  {
   "cell_type": "code",
   "execution_count": null,
   "id": "85fd446a-73d2-483c-8627-73a929da5bc4",
   "metadata": {},
   "outputs": [],
   "source": []
  }
 ],
 "metadata": {
  "kernelspec": {
   "display_name": "Python 3 (ipykernel)",
   "language": "python",
   "name": "python3"
  },
  "language_info": {
   "codemirror_mode": {
    "name": "ipython",
    "version": 3
   },
   "file_extension": ".py",
   "mimetype": "text/x-python",
   "name": "python",
   "nbconvert_exporter": "python",
   "pygments_lexer": "ipython3",
   "version": "3.10.8"
  }
 },
 "nbformat": 4,
 "nbformat_minor": 5
}
