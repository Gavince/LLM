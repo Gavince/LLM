{
 "cells": [
  {
   "cell_type": "code",
   "execution_count": 2,
   "id": "5385d70c-019a-4324-a248-d963e030f0ed",
   "metadata": {},
   "outputs": [
    {
     "name": "stdout",
     "output_type": "stream",
     "text": [
      "Received grad_output: 1.0\n"
     ]
    }
   ],
   "source": [
    "import torch\n",
    "import torch.nn as nn\n",
    "\n",
    "# 定义一个简单的模型\n",
    "class SimpleModel(nn.Module):\n",
    "    def __init__(self):\n",
    "        super(SimpleModel, self).__init__()\n",
    "        self.linear = nn.Linear(10, 5)\n",
    "\n",
    "    def forward(self, x):\n",
    "        return self.linear(x)\n",
    "\n",
    "model = SimpleModel()\n",
    "criterion = nn.MSELoss()\n",
    "\n",
    "# 模拟输入数据\n",
    "input_data = torch.randn(32, 10)\n",
    "target_data = torch.randn(32, 5)\n",
    "\n",
    "# 前向传播\n",
    "output = model(input_data)\n",
    "loss = criterion(output, target_data)\n",
    "\n",
    "# 使用 lambda 函数注册钩子\n",
    "loss.register_hook(lambda grad_output: custom_backward_hook(grad_output, None, None))\n",
    "\n",
    "def custom_backward_hook(grad_output, sentence_features, loss_obj):\n",
    "    print(f\"Received grad_output: {grad_output}\")\n",
    "    # 这里可以进行一些自定义的操作\n",
    "    return None\n",
    "\n",
    "# 进行反向传播\n",
    "loss.backward()"
   ]
  },
  {
   "cell_type": "code",
   "execution_count": null,
   "id": "1113f948-7d19-4a41-a883-43b1d4a84bf3",
   "metadata": {},
   "outputs": [],
   "source": []
  }
 ],
 "metadata": {
  "kernelspec": {
   "display_name": "Python 3 (ipykernel)",
   "language": "python",
   "name": "python3"
  },
  "language_info": {
   "codemirror_mode": {
    "name": "ipython",
    "version": 3
   },
   "file_extension": ".py",
   "mimetype": "text/x-python",
   "name": "python",
   "nbconvert_exporter": "python",
   "pygments_lexer": "ipython3",
   "version": "3.11.7"
  }
 },
 "nbformat": 4,
 "nbformat_minor": 5
}
